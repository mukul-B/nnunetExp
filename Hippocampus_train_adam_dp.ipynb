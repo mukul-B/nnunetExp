{
  "nbformat": 4,
  "nbformat_minor": 0,
  "metadata": {
    "colab": {
      "name": "Hippocampus_train_adam_dp.ipynb",
      "provenance": [],
      "authorship_tag": "ABX9TyN9DL9rXaKnxZex8o4+hjMT",
      "include_colab_link": true
    },
    "kernelspec": {
      "name": "python3",
      "display_name": "Python 3"
    },
    "language_info": {
      "name": "python"
    }
  },
  "cells": [
    {
      "cell_type": "markdown",
      "metadata": {
        "id": "view-in-github",
        "colab_type": "text"
      },
      "source": [
        "<a href=\"https://colab.research.google.com/github/mukul-B/nnunetExp/blob/main/Hippocampus_train_adam_dp.ipynb\" target=\"_parent\"><img src=\"https://colab.research.google.com/assets/colab-badge.svg\" alt=\"Open In Colab\"/></a>"
      ]
    },
    {
      "cell_type": "code",
      "execution_count": null,
      "metadata": {
        "id": "3Q4NqIbo0OUV"
      },
      "outputs": [],
      "source": [
        "%cd /content/\n",
        "!git clone https://github.com/MIC-DKFZ/nnUNet.git\n",
        "%cd /content/nnUNet\n",
        "!pip install -e ."
      ]
    },
    {
      "cell_type": "code",
      "source": [
        "from google.colab import drive\n",
        "drive.mount('/content/drive')"
      ],
      "metadata": {
        "id": "ZkbWFGh75XAg"
      },
      "execution_count": null,
      "outputs": []
    },
    {
      "cell_type": "code",
      "source": [
        "import os\n",
        "os.environ['nnUNet_preprocessed'] = \"/content/nnunet_exp/nnUNet_preprocessed\"\n",
        "os.environ['RESULTS_FOLDER'] = \"/content/drive/MyDrive\"\n",
        "# os.environ['RESULTS_FOLDER'] = \"/media/fabian/nnUNet_trained_models\"\n",
        "os.environ['nnUNet_raw_data_base'] = \"/content/nnunet_exp/nnUNet_raw_data_base\""
      ],
      "metadata": {
        "id": "wKnWOuYD5u6D"
      },
      "execution_count": null,
      "outputs": []
    },
    {
      "cell_type": "code",
      "source": [
        "!rm -r nnunet_exp/nnUNet_preprocessed\n",
        "!rm -r nnunet_exp/nnUNet_trained_models\n",
        "!rm -r nnunet_exp/nnUNet_raw_data_base\n",
        "!rm -r nnunet_exp\n",
        "\n",
        "!mkdir nnunet_exp\n",
        "!mkdir nnunet_exp/nnUNet_preprocessed\n",
        "!mkdir nnunet_exp/nnUNet_trained_models\n",
        "!mkdir nnunet_exp/nnUNet_raw_data_base"
      ],
      "metadata": {
        "id": "sQtoBB1z5xRF"
      },
      "execution_count": null,
      "outputs": []
    },
    {
      "cell_type": "code",
      "source": [
        "!bash /content/drive/MyDrive/preProcess.sh 4 Task04_Hippocampus Task004_Hippocampus"
      ],
      "metadata": {
        "id": "ARY6rqPT5z7F"
      },
      "execution_count": null,
      "outputs": []
    },
    {
      "cell_type": "markdown",
      "source": [
        "with SGD"
      ],
      "metadata": {
        "id": "XKq3Hne962bj"
      }
    },
    {
      "cell_type": "code",
      "source": [
        "!nnUNet_train 2d nnUNetTrainerV2 Task004_Hippocampus 3"
      ],
      "metadata": {
        "id": "zIfvIknQ61dw"
      },
      "execution_count": null,
      "outputs": []
    },
    {
      "cell_type": "markdown",
      "source": [
        "With Deep supervision"
      ],
      "metadata": {
        "id": "6-1_Skkx6j7D"
      }
    },
    {
      "cell_type": "code",
      "source": [
        "!nnUNet_train 2d nnUNetTrainerV2_DP Task004_Hippocampus 4"
      ],
      "metadata": {
        "id": "XIiY-B2m6mvX"
      },
      "execution_count": null,
      "outputs": []
    },
    {
      "cell_type": "markdown",
      "source": [
        "With Adam Optimiser"
      ],
      "metadata": {
        "id": "0skOiYlk6gI5"
      }
    },
    {
      "cell_type": "code",
      "source": [
        "#change nnUNetTrainerV2 line 167\n",
        " #  self.optimizer = torch.optim.SGD(self.network.parameters(), self.initial_lr, weight_decay=self.weight_decay,\n",
        "        #                                  momentum=0.99, nesterov=True)\n",
        "        # self.optimizer = torch.optim.Adam(self.network.parameters(), self.initial_lr, weight_decay=self.weight_decay,\n",
        "        #                                  )\n",
        "       \n",
        "!nnUNet_train 2d nnUNetTrainerV2 Task004_Hippocampus 1"
      ],
      "metadata": {
        "id": "znZIxz4p6D31"
      },
      "execution_count": null,
      "outputs": []
    }
  ]
}