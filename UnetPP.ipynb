{
  "nbformat": 4,
  "nbformat_minor": 0,
  "metadata": {
    "colab": {
      "name": "UnetPP.ipynb",
      "provenance": [],
      "authorship_tag": "ABX9TyN5JPDXfqebmqxYIbjU8aRT",
      "include_colab_link": true
    },
    "kernelspec": {
      "name": "python3",
      "display_name": "Python 3"
    },
    "language_info": {
      "name": "python"
    }
  },
  "cells": [
    {
      "cell_type": "markdown",
      "metadata": {
        "id": "view-in-github",
        "colab_type": "text"
      },
      "source": [
        "<a href=\"https://colab.research.google.com/github/mukul-B/nnunetExp/blob/main/UnetPP.ipynb\" target=\"_parent\"><img src=\"https://colab.research.google.com/assets/colab-badge.svg\" alt=\"Open In Colab\"/></a>"
      ]
    },
    {
      "cell_type": "code",
      "execution_count": null,
      "metadata": {
        "id": "LIc2fK5h0Guj"
      },
      "outputs": [],
      "source": [
        "%cd /content/\n",
        "!git clone https://github.com/MrGiovanni/UNetPlusPlus.git\n",
        "%cd UNetPlusPlus/pytorch\n",
        "!pip install git+https://github.com/MIC-DKFZ/batchgenerators.git\n",
        "!pip install -e ."
      ]
    },
    {
      "cell_type": "code",
      "source": [
        "from google.colab import drive\n",
        "drive.mount('/content/drive')"
      ],
      "metadata": {
        "id": "_RNgon7hBC1l"
      },
      "execution_count": null,
      "outputs": []
    },
    {
      "cell_type": "code",
      "source": [
        "import os\n",
        "os.environ['nnUNet_preprocessed'] = \"/content/nnunet_exp/nnUNet_preprocessed\"\n",
        "os.environ['RESULTS_FOLDER'] = \"/content/drive/MyDrive\"\n",
        "# os.environ['RESULTS_FOLDER'] = \"/media/fabian/nnUNet_trained_models\"\n",
        "os.environ['nnUNet_raw_data_base'] = \"/content/nnunet_exp/nnUNet_raw_data_base\""
      ],
      "metadata": {
        "id": "gayp-tWGBCC2"
      },
      "execution_count": null,
      "outputs": []
    },
    {
      "cell_type": "code",
      "source": [
        "!rm -r nnunet_exp/nnUNet_preprocessed\n",
        "!rm -r nnunet_exp/nnUNet_trained_models\n",
        "!rm -r nnunet_exp/nnUNet_raw_data_base\n",
        "!rm -r nnunet_exp\n",
        "\n",
        "!mkdir nnunet_exp\n",
        "!mkdir nnunet_exp/nnUNet_preprocessed\n",
        "!mkdir nnunet_exp/nnUNet_trained_models\n",
        "!mkdir nnunet_exp/nnUNet_raw_data_base"
      ],
      "metadata": {
        "id": "5j3ethJgBE8k"
      },
      "execution_count": null,
      "outputs": []
    },
    {
      "cell_type": "code",
      "source": [
        "!bash /content/drive/MyDrive/preProcess.sh 4 Task04_Hippocampus Task004_Hippocampus"
      ],
      "metadata": {
        "id": "PsSeq19FBHwL"
      },
      "execution_count": null,
      "outputs": []
    },
    {
      "cell_type": "code",
      "source": [
        "!rm -r /content/UNetPlusPlus/pytorch/nnunet/training/data_augmentation\n",
        "!cp -r /content/drive/MyDrive/data_augmentation /content/UNetPlusPlus/pytorch/nnunet/training/"
      ],
      "metadata": {
        "id": "lMaAf6-OB2PY"
      },
      "execution_count": null,
      "outputs": []
    },
    {
      "cell_type": "code",
      "source": [
        "!nnUNet_train 2d nnUNetPlusPlusTrainerV2 Task004_Hippocampus 1"
      ],
      "metadata": {
        "id": "PfnbugUlA_LT"
      },
      "execution_count": null,
      "outputs": []
    }
  ]
}